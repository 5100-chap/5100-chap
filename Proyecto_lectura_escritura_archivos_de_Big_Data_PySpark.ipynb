{
  "nbformat": 4,
  "nbformat_minor": 0,
  "metadata": {
    "colab": {
      "provenance": [],
      "authorship_tag": "ABX9TyPJL2B0F3KRB+uja/JSFDTL",
      "include_colab_link": true
    },
    "kernelspec": {
      "name": "python3",
      "display_name": "Python 3"
    },
    "language_info": {
      "name": "python"
    }
  },
  "cells": [
    {
      "cell_type": "markdown",
      "metadata": {
        "id": "view-in-github",
        "colab_type": "text"
      },
      "source": [
        "<a href=\"https://colab.research.google.com/github/5100-chap/5100-chap/blob/main/Proyecto_lectura_escritura_archivos_de_Big_Data_PySpark.ipynb\" target=\"_parent\"><img src=\"https://colab.research.google.com/assets/colab-badge.svg\" alt=\"Open In Colab\"/></a>"
      ]
    },
    {
      "cell_type": "code",
      "execution_count": null,
      "metadata": {
        "id": "tgYUUhSItRpR"
      },
      "outputs": [],
      "source": [
        "from pyspark.sql import SparkSession\n",
        "import pandas as pd"
      ]
    },
    {
      "cell_type": "code",
      "source": [
        "spark = SparkSession.builder.appName(\"Exploración del Dataset\").getOrCreate()"
      ],
      "metadata": {
        "id": "lGggU1Ta1OnZ"
      },
      "execution_count": null,
      "outputs": []
    },
    {
      "cell_type": "code",
      "source": [
        "# Carga los datos en el dataframe\n",
        "dataFrame = spark.read.csv('datosAqui.csv', header=True, inferSchema=True)\n",
        "dataFrame.printSchema()\n",
        "dataFrame.show()"
      ],
      "metadata": {
        "id": "vjgQ44MP1avD"
      },
      "execution_count": null,
      "outputs": []
    },
    {
      "cell_type": "code",
      "source": [
        "num_records = dataFrame.count()\n",
        "print(f\"numero de registros: {num_records}\")"
      ],
      "metadata": {
        "id": "yfYxGvoL247g"
      },
      "execution_count": null,
      "outputs": []
    },
    {
      "cell_type": "code",
      "source": [
        "# Tipo de dato\n",
        "dataFrame.dtypes"
      ],
      "metadata": {
        "id": "TM9mvAo_2_bW"
      },
      "execution_count": 1,
      "outputs": []
    },
    {
      "cell_type": "code",
      "source": [
        "columns = dataFrame.columns\n",
        "print(f\"Numero de columnas en el dataset: {len(columns)}\")"
      ],
      "metadata": {
        "id": "5XxoYZqV3B62"
      },
      "execution_count": null,
      "outputs": []
    }
  ]
}